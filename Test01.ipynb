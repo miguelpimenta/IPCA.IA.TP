{
 "cells": [
  {
   "cell_type": "code",
   "execution_count": null,
   "metadata": {
    "collapsed": true
   },
   "outputs": [],
   "source": [
    "import pandas as pd\n",
    "pd.set_option('display.html.table_schema', True)"
   ]
  },
  {
   "cell_type": "markdown",
   "metadata": {
    "collapsed": true
   },
   "source": [
    "Leitura de Dados"
   ]
  },
  {
   "cell_type": "code",
   "execution_count": 3,
   "metadata": {
    "collapsed": true
   },
   "outputs": [],
   "source": [
    "df = pd.read_excel(\"input\\DadosGeralClean.xls\")\n"
   ]
  },
  {
   "cell_type": "markdown",
   "metadata": {
    "collapsed": true
   },
   "source": [
    "Drop Colunas\n"
   ]
  },
  {
   "cell_type": "code",
   "execution_count": 4,
   "metadata": {
    "collapsed": true
   },
   "outputs": [],
   "source": [
    "df1 = df.drop([\"Minimo_dif\", \"Maximo_dif\", \"Media_dif\", \"Mediana_dif\", \"SDNN\", \"SDSD\", \"RMSSD\", \"PNN50\"], axis = 1)"
   ]
  },
  {
   "cell_type": "markdown",
   "metadata": {
    "collapsed": true
   },
   "source": [
    "Descrição DataSet\n"
   ]
  },
  {
   "cell_type": "code",
   "execution_count": 5,
   "metadata": {
    "collapsed": true
   },
   "outputs": [
    {
     "name": "stdout",
     "output_type": "stream",
     "text": [
      "Descrição\n                ID       Stress        Média      Mediana       Minimo  \\\ncount  6403.000000  6403.000000  6403.000000  6403.000000  6403.000000   \nmean     43.350929     0.097923     0.810047     0.809648     0.510760   \nstd      24.138342     0.297234     0.108536     0.117163     0.127530   \nmin       1.000000     0.000000     0.446820     0.414800     0.348432   \n25%      27.000000     0.000000     0.745276     0.746640     0.431392   \n50%      39.000000     0.000000     0.793346     0.796416     0.464576   \n75%      64.000000     0.000000     0.852465     0.862784     0.547536   \nmax     104.000000     1.000000     1.391108     1.410320     1.310768   \n\n            Maximo  \ncount  6403.000000  \nmean      1.218681  \nstd       0.173654  \nmin       0.497760  \n25%       1.111664  \n50%       1.227808  \n75%       1.310768  \nmax       1.708976  \n(6403, 6)\n"
     ]
    }
   ],
   "source": [
    "#print(df1.count())\n",
    "print(\"Descrição\")\n",
    "print(df1.describe())\n",
    "print(df1.shape)\n"
   ]
  },
  {
   "cell_type": "markdown",
   "metadata": {
    "collapsed": true
   },
   "source": [
    "\n"
   ]
  },
  {
   "cell_type": "markdown",
   "metadata": {
    "collapsed": true
   },
   "source": [
    "Agrupamento + Média\n"
   ]
  },
  {
   "cell_type": "code",
   "execution_count": 6,
   "metadata": {
    "collapsed": true
   },
   "outputs": [
    {
     "name": "stdout",
     "output_type": "stream",
     "text": [
      "              Média   Mediana    Minimo    Maximo\nID Stress                                        \n1  0       0.753492  0.749185  0.572047  0.975723\n   1       0.770134  0.768763  0.555832  1.053592\n2  0       0.813472  0.817847  0.492229  1.154527\n   1       0.790251  0.796416  0.398208  1.194624\n3  0       0.798230  0.816095  0.424639  1.139060\n"
     ]
    }
   ],
   "source": [
    "print(df1.groupby(['ID', 'Stress']).mean().head())\n"
   ]
  },
  {
   "cell_type": "markdown",
   "metadata": {},
   "source": [
    "Kmeans"
   ]
  },
  {
   "cell_type": "code",
   "execution_count": 7,
   "metadata": {},
   "outputs": [
    {
     "data": {
      "text/plain": [
       "KMeans(algorithm='auto', copy_x=True, init='k-means++', max_iter=300,\n    n_clusters=4, n_init=10, n_jobs=None, precompute_distances='auto',\n    random_state=None, tol=0.0001, verbose=0)"
      ]
     },
     "execution_count": 7,
     "metadata": {},
     "output_type": "execute_result"
    }
   ],
   "source": [
    "from sklearn.cluster import KMeans\n",
    "km = KMeans(n_clusters=4, init='k-means++', n_init=10)\n",
    "km.fit(df1.groupby(['ID', 'Stress']).mean())\n"
   ]
  },
  {
   "cell_type": "code",
   "execution_count": 8,
   "metadata": {},
   "outputs": [],
   "source": [
    "x = km.fit_predict(df1.groupby(['ID', 'Stress']).mean())\n",
    "df1.groupby(['ID', 'Stress']).mean()[\"Cluster\"] = x\n",
    "#print(df1.groupby(['IDIndividual', 'Stress']).mean())\n"
   ]
  },
  {
   "cell_type": "code",
   "execution_count": 9,
   "metadata": {},
   "outputs": [],
   "source": [
    "# https://xlsxwriter.readthedocs.io/example_pandas_simple.html\n",
    "writer = pd.ExcelWriter('output\\output01.xlsx', engine='xlsxwriter')\n",
    "df1.groupby(['ID', 'Stress']).mean().to_excel(writer, sheet_name='Sheet1')\n",
    "writer.save()\n",
    "\n",
    "writer = pd.ExcelWriter('output\\output03.xlsx', engine='xlsxwriter')\n",
    "df1.sort_values(['Minimo', 'Maximo'], ascending=True).groupby(['ID', 'Stress']).mean().to_excel(writer, sheet_name='Sheet1')\n",
    "writer.save()"
   ]
  },
  {
   "cell_type": "code",
   "execution_count": 10,
   "metadata": {},
   "outputs": [
    {
     "ename": "NameError",
     "evalue": "name 'true' is not defined",
     "traceback": [
      "\u001b[0;31m\u001b[0m",
      "\u001b[0;31mNameError\u001b[0mTraceback (most recent call last)",
      "\u001b[0;32m<ipython-input-10-77e3fa76daae>\u001b[0m in \u001b[0;36m<module>\u001b[0;34m()\u001b[0m\n\u001b[1;32m      1\u001b[0m \u001b[0;32mimport\u001b[0m \u001b[0mseaborn\u001b[0m \u001b[0;32mas\u001b[0m \u001b[0msns\u001b[0m\u001b[0;34m\u001b[0m\u001b[0m\n\u001b[1;32m      2\u001b[0m \u001b[0mcor\u001b[0m \u001b[0;34m=\u001b[0m \u001b[0mdf1\u001b[0m\u001b[0;34m.\u001b[0m\u001b[0mgroupby\u001b[0m\u001b[0;34m(\u001b[0m\u001b[0;34m[\u001b[0m\u001b[0;34m'ID'\u001b[0m\u001b[0;34m,\u001b[0m \u001b[0;34m'Stress'\u001b[0m\u001b[0;34m]\u001b[0m\u001b[0;34m)\u001b[0m\u001b[0;34m.\u001b[0m\u001b[0mmean\u001b[0m\u001b[0;34m(\u001b[0m\u001b[0;34m)\u001b[0m\u001b[0;34m.\u001b[0m\u001b[0mcorr\u001b[0m\u001b[0;34m(\u001b[0m\u001b[0;34m)\u001b[0m \u001b[0;31m#Correlation\u001b[0m\u001b[0;34m\u001b[0m\u001b[0m\n\u001b[0;32m----> 3\u001b[0;31m \u001b[0msns\u001b[0m\u001b[0;34m.\u001b[0m\u001b[0mheatmap\u001b[0m\u001b[0;34m(\u001b[0m\u001b[0mcor\u001b[0m\u001b[0;34m,\u001b[0m \u001b[0msquare\u001b[0m \u001b[0;34m=\u001b[0m \u001b[0mtrue\u001b[0m\u001b[0;34m)\u001b[0m\u001b[0;34m\u001b[0m\u001b[0m\n\u001b[0m",
      "\u001b[0;31mNameError\u001b[0m: name 'true' is not defined"
     ],
     "output_type": "error"
    }
   ],
   "source": [
    "import seaborn as sns\n",
    "cor = df1.groupby(['ID', 'Stress']).mean().corr() #Correlation\n",
    "sns.heatmap(cor, square = true)"
   ]
  },
  {
   "cell_type": "code",
   "execution_count": 11,
   "metadata": {
    "collapsed": false
   },
   "outputs": [
    {
     "data": {
      "image/png": "[encoded data removed]",
      "text/plain": [
       "<Figure size 576x576 with 1 Axes>"
      ]
     },
     "metadata": {},
     "output_type": "display_data"
    },
    {
     "data": {
      "image/png": "[encoded data removed]",
      "text/plain": [
       "<Figure size 576x576 with 1 Axes>"
      ]
     },
     "metadata": {},
     "output_type": "display_data"
    }
   ],
   "source": [
    "import numpy as np\n",
    "import matplotlib.pyplot as plt\n",
    "\n",
    "df3 = pd.DataFrame({\n",
    "    'x': df1.groupby(['ID']).mean()['Minimo'],\n",
    "    'y': df1.groupby(['ID']).mean()['Maximo']\n",
    "})\n",
    "fig = plt.figure(figsize=(8, 8))\n",
    "plt.scatter(df3['x'], df3['y'], color='k')\n",
    "plt.show()\n",
    "\n",
    "df4 = pd.DataFrame({\n",
    "    'x': df1['Minimo'],\n",
    "    'y': df1['Maximo']\n",
    "})\n",
    "fig = plt.figure(figsize=(8, 8))\n",
    "plt.scatter(df4['x'], df4['y'], color='k')\n",
    "plt.show()"
   ]
  },
  {
   "cell_type": "code",
   "execution_count": 12,
   "metadata": {},
   "outputs": [
    {
     "data": {
      "text/plain": [
       "<matplotlib.collections.PathCollection at 0x2e1aa0b8>"
      ]
     },
     "execution_count": 12,
     "metadata": {},
     "output_type": "execute_result"
    },
    {
     "data": {
      "image/png": "[encoded data removed]",
      "text/plain": [
       "<Figure size 720x720 with 1 Axes>"
      ]
     },
     "metadata": {},
     "output_type": "display_data"
    }
   ],
   "source": [
    "from sklearn.cluster import KMeans\n",
    "from sklearn import metrics\n",
    "import numpy as np\n",
    "import matplotlib.pyplot as plt\n",
    "\n",
    "x1 = np.array(df1.groupby(['ID', 'Stress']).mean()['Minimo'])\n",
    "x2 = np.array(df1.groupby(['ID', 'Stress']).mean()['Maximo'])\n",
    "\n",
    "X = np.array(list(zip(x1, x2))).reshape(len(x1), 2)\n",
    "colors = ['b', 'g', 'c']\n",
    "markers = ['o', 'v', 's']\n",
    "\n",
    "# KMeans \n",
    "K = 2\n",
    "km = KMeans(n_clusters=K, init='k-means++', n_init=10)\n",
    "km.fit(df1.groupby(['ID', 'Stress']).mean())\n",
    "kModel = KMeans(n_clusters=K).fit(X)\n",
    "\n",
    "#print(kModel.cluster_centers_)\n",
    "centers = np.array(kModel.cluster_centers_)\n",
    "\n",
    "fig = plt.figure(figsize=(10, 10))\n",
    "plt.plot()\n",
    "plt.title('KMeans')\n",
    "\n",
    "for i, l in enumerate(kModel.labels_):\n",
    "    plt.plot(x1[i], x2[i], color=colors[l], marker=markers[l], ls='None')\n",
    "    plt.xlim([0.3, 0.9])\n",
    "    plt.ylim([0.6, 1.8])\n",
    "\n",
    "plt.scatter(centers[:, 0], centers[:, 1], marker=\"X\", color='r')\n"
   ]
  },
  {
   "cell_type": "code",
   "execution_count": 174,
   "metadata": {},
   "outputs": [],
   "source": [
    ""
   ]
  },
  {
   "cell_type": "code",
   "execution_count": null,
   "metadata": {},
   "outputs": [],
   "source": []
  }
 ],
 "metadata": {
  "kernelspec": {
   "display_name": "Python 2",
   "language": "python",
   "name": "python2"
  },
  "language_info": {
   "codemirror_mode": {
    "name": "ipython",
    "version": 2
   },
   "file_extension": ".py",
   "mimetype": "text/x-python",
   "name": "python",
   "nbconvert_exporter": "python",
   "pygments_lexer": "ipython2",
   "version": "2.7.6"
  }
 },
 "nbformat": 4,
 "nbformat_minor": 0
}
